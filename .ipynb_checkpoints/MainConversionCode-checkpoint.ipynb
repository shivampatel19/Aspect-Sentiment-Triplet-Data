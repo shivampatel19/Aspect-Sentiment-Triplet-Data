{
 "cells": [
  {
   "cell_type": "code",
   "execution_count": 1,
   "id": "bad58fb2",
   "metadata": {},
   "outputs": [],
   "source": [
    "import json"
   ]
  },
  {
   "cell_type": "code",
   "execution_count": 2,
   "id": "4604b83c",
   "metadata": {},
   "outputs": [],
   "source": [
    "file_name = 'opener_es/dev'"
   ]
  },
  {
   "cell_type": "code",
   "execution_count": 3,
   "id": "5d04727a",
   "metadata": {},
   "outputs": [],
   "source": [
    "# Opening JSON file\n",
    "f = open(file_name + '.json')"
   ]
  },
  {
   "cell_type": "code",
   "execution_count": 4,
   "id": "4d9a187a",
   "metadata": {},
   "outputs": [],
   "source": [
    "# returns JSON object as a dictionary\n",
    "data = json.load(f)"
   ]
  },
  {
   "cell_type": "code",
   "execution_count": null,
   "id": "07cd5861",
   "metadata": {},
   "outputs": [],
   "source": []
  },
  {
   "cell_type": "code",
   "execution_count": 7,
   "id": "8021856b",
   "metadata": {},
   "outputs": [],
   "source": [
    "file_sent = open(file_name + '.sent', 'w')\n",
    "none_sent = open(file_name + '_none.sent', 'w')\n",
    "file_tup = open(file_name + '.tup', 'w')\n",
    "file_pointer = open(file_name + '.pointer', 'w')\n",
    "\n",
    "zero = 0\n",
    "one = 1\n",
    "two = 2\n",
    "three = 3\n",
    "\n",
    "for i in data:\n",
    "    tup = \"\"  \n",
    "    pointer = \"\"    \n",
    "    if not i['opinions']:  # Writes the sentences which has No opinions \n",
    "        if three == 3:\n",
    "            none_sent.write(i['text'])\n",
    "            three = 0\n",
    "        else:\n",
    "            none_sent.write('\\n' + i['text'])\n",
    "    else:\n",
    "        if i['opinions']: # Writes the sentences which has opinions but No target or has Polar expressions more than 1.\n",
    "            target = 0\n",
    "            for y in i['opinions']:\n",
    "                if y['Target'][0] or len(y['Polar_expression'][0])!=1:\n",
    "                    if target==0:\n",
    "                        if two == 2:\n",
    "                            none_sent.write(i['text'])\n",
    "                            two = 0\n",
    "                        else:\n",
    "                            none_sent.write('\\n' + i['text'])\n",
    "                        target = target + 1\n",
    "                    \n",
    "    if i['opinions']:\n",
    "        num = 0\n",
    "        targ = 0\n",
    "        lt = 0\n",
    "        for q in i['opinions']:\n",
    "            if q['Target'][0] and len(q['Polar_expression'][0])==1:\n",
    "                num = num + 1\n",
    "        lo = num\n",
    "        test_string = i['text']\n",
    "\n",
    "        #print(test_string) \n",
    "        for j in i['opinions']:\n",
    "            if j['Target'][0] and len(j['Polar_expression'][0])==1:\n",
    "                \n",
    "                length1 = 0\n",
    "                length2 = 0\n",
    "                word1 = j['Target'][0][0]\n",
    "                word2 = j['Polar_expression'][0][0]\n",
    "\n",
    "                index1 = test_string.find(word1)\n",
    "                index2 = test_string.find(word2)\n",
    "                for k in range(index1):\n",
    "                    if test_string[k] == \" \":\n",
    "                        length1 = length1 + 1\n",
    "                for k in range(index2):\n",
    "                    if test_string[k] == \" \":\n",
    "                        length2 = length2 + 1\n",
    "                        \n",
    "                if index1 == -1 or index2 == -1:\n",
    "                    continue\n",
    "                \n",
    "                if targ==0:\n",
    "                    if zero == 0:\n",
    "                        file_sent.write(i['text'])\n",
    "                        zero = 1\n",
    "                    else:\n",
    "                        file_sent.write('\\n' + i['text'])\n",
    "                    targ = targ + 1\n",
    "\n",
    "                if (j['Polarity']=='Positive'):\n",
    "                    tup1 = j['Target'][0][0] + ' ; ' + word2 + ' ; POS'\n",
    "                    pointer1 = str(length1) + ' ' + str(length1+len(word1.split())-1) + ' ' + str(length2) + ' ' + str(length2+len(word2.split())-1) + ' POS'\n",
    "                    lt = lt+1\n",
    "                elif (j['Polarity']=='Negative'):\n",
    "                    tup1 = j['Target'][0][0] + ' ; ' + word2 + ' ; NEG'\n",
    "                    pointer1 = str(length1) + ' ' + str(length1+len(word1.split())-1) + ' ' + str(length2) + ' ' + str(length2+len(word2.split())-1) +  ' NEG'\n",
    "                    lt = lt+1\n",
    "                elif (j['Polarity']=='Neutral'):\n",
    "                    tup1 = j['Target'][0][0] + ' ; ' + word2 + ' ; NEU'\n",
    "                    pointer1 = str(length1) + ' ' + str(length1+len(word1.split())-1) + ' ' + str(length2) + ' ' + str(length2+len(word2.split())-1) +  ' NEU'\n",
    "                    lt = lt+1\n",
    "                    \n",
    "                if not lt == lo:\n",
    "                    tup = tup + tup1 + \" | \"\n",
    "                    pointer = pointer + pointer1 + \" | \"\n",
    "                else :\n",
    "                    tup = tup + tup1\n",
    "                    pointer = pointer + pointer1\n",
    "        if not targ == 0:\n",
    "            if one == 1:\n",
    "                file_tup.write(tup)\n",
    "                file_pointer.write(pointer)\n",
    "                one = 0\n",
    "            else:\n",
    "                file_tup.write('\\n' + tup) \n",
    "                file_pointer.write('\\n' + pointer)\n",
    "\n",
    "file_pointer.close()\n",
    "file_sent.close()\n",
    "file_tup.close()\n",
    "none_sent.close()"
   ]
  },
  {
   "cell_type": "code",
   "execution_count": null,
   "id": "f5dd2be8",
   "metadata": {},
   "outputs": [],
   "source": []
  },
  {
   "cell_type": "code",
   "execution_count": null,
   "id": "af461311",
   "metadata": {},
   "outputs": [],
   "source": []
  },
  {
   "cell_type": "code",
   "execution_count": null,
   "id": "d4e24d0d",
   "metadata": {},
   "outputs": [],
   "source": []
  },
  {
   "cell_type": "code",
   "execution_count": null,
   "id": "5f738522",
   "metadata": {},
   "outputs": [],
   "source": []
  }
 ],
 "metadata": {
  "kernelspec": {
   "display_name": "Python 3 (ipykernel)",
   "language": "python",
   "name": "python3"
  },
  "language_info": {
   "codemirror_mode": {
    "name": "ipython",
    "version": 3
   },
   "file_extension": ".py",
   "mimetype": "text/x-python",
   "name": "python",
   "nbconvert_exporter": "python",
   "pygments_lexer": "ipython3",
   "version": "3.8.8"
  }
 },
 "nbformat": 4,
 "nbformat_minor": 5
}
